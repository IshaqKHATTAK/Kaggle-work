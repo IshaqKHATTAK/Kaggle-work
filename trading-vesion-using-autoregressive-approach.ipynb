{
 "cells": [
  {
   "cell_type": "code",
   "execution_count": 1,
   "id": "f621c32d",
   "metadata": {
    "_cell_guid": "b1076dfc-b9ad-4769-8c92-a6c4dae69d19",
    "_uuid": "8f2839f25d086af736a60e9eeb907d3b93b6e0e5",
    "execution": {
     "iopub.execute_input": "2024-04-26T18:36:49.436656Z",
     "iopub.status.busy": "2024-04-26T18:36:49.435790Z",
     "iopub.status.idle": "2024-04-26T18:36:49.441147Z",
     "shell.execute_reply": "2024-04-26T18:36:49.440369Z"
    },
    "papermill": {
     "duration": 0.021779,
     "end_time": "2024-04-26T18:36:49.443503",
     "exception": false,
     "start_time": "2024-04-26T18:36:49.421724",
     "status": "completed"
    },
    "tags": []
   },
   "outputs": [],
   "source": [
    "#https://www.kaggle.com/code/taniaj/cryptocurrency-price-forecasting\n",
    "#https://www.kaggle.com/code/shivamb/data-science-glossary-on-kaggle"
   ]
  },
  {
   "cell_type": "code",
   "execution_count": 2,
   "id": "0ad19435",
   "metadata": {
    "execution": {
     "iopub.execute_input": "2024-04-26T18:36:49.469346Z",
     "iopub.status.busy": "2024-04-26T18:36:49.468578Z",
     "iopub.status.idle": "2024-04-26T18:36:50.470153Z",
     "shell.execute_reply": "2024-04-26T18:36:50.469025Z"
    },
    "papermill": {
     "duration": 1.017655,
     "end_time": "2024-04-26T18:36:50.473011",
     "exception": false,
     "start_time": "2024-04-26T18:36:49.455356",
     "status": "completed"
    },
    "tags": []
   },
   "outputs": [
    {
     "data": {
      "text/html": [
       "<div>\n",
       "<style scoped>\n",
       "    .dataframe tbody tr th:only-of-type {\n",
       "        vertical-align: middle;\n",
       "    }\n",
       "\n",
       "    .dataframe tbody tr th {\n",
       "        vertical-align: top;\n",
       "    }\n",
       "\n",
       "    .dataframe thead th {\n",
       "        text-align: right;\n",
       "    }\n",
       "</style>\n",
       "<table border=\"1\" class=\"dataframe\">\n",
       "  <thead>\n",
       "    <tr style=\"text-align: right;\">\n",
       "      <th></th>\n",
       "      <th>timestamp</th>\n",
       "      <th>adjclose</th>\n",
       "      <th>low</th>\n",
       "      <th>open</th>\n",
       "      <th>volume</th>\n",
       "      <th>close</th>\n",
       "      <th>high</th>\n",
       "    </tr>\n",
       "  </thead>\n",
       "  <tbody>\n",
       "    <tr>\n",
       "      <th>0</th>\n",
       "      <td>2017-11-09 00:00:00</td>\n",
       "      <td>320.884003</td>\n",
       "      <td>307.056000</td>\n",
       "      <td>308.644989</td>\n",
       "      <td>893249984</td>\n",
       "      <td>320.884003</td>\n",
       "      <td>329.451996</td>\n",
       "    </tr>\n",
       "    <tr>\n",
       "      <th>1</th>\n",
       "      <td>2017-11-10 00:00:00</td>\n",
       "      <td>299.252991</td>\n",
       "      <td>294.541992</td>\n",
       "      <td>320.670990</td>\n",
       "      <td>885985984</td>\n",
       "      <td>299.252991</td>\n",
       "      <td>324.717987</td>\n",
       "    </tr>\n",
       "    <tr>\n",
       "      <th>2</th>\n",
       "      <td>2017-11-11 00:00:00</td>\n",
       "      <td>314.681000</td>\n",
       "      <td>298.191986</td>\n",
       "      <td>298.585999</td>\n",
       "      <td>842300992</td>\n",
       "      <td>314.681000</td>\n",
       "      <td>319.453003</td>\n",
       "    </tr>\n",
       "    <tr>\n",
       "      <th>3</th>\n",
       "      <td>2017-11-12 00:00:00</td>\n",
       "      <td>307.907990</td>\n",
       "      <td>298.513000</td>\n",
       "      <td>314.690002</td>\n",
       "      <td>1613479936</td>\n",
       "      <td>307.907990</td>\n",
       "      <td>319.153015</td>\n",
       "    </tr>\n",
       "    <tr>\n",
       "      <th>4</th>\n",
       "      <td>2017-11-13 00:00:00</td>\n",
       "      <td>316.716003</td>\n",
       "      <td>307.024994</td>\n",
       "      <td>307.024994</td>\n",
       "      <td>1041889984</td>\n",
       "      <td>316.716003</td>\n",
       "      <td>328.415009</td>\n",
       "    </tr>\n",
       "    <tr>\n",
       "      <th>...</th>\n",
       "      <td>...</td>\n",
       "      <td>...</td>\n",
       "      <td>...</td>\n",
       "      <td>...</td>\n",
       "      <td>...</td>\n",
       "      <td>...</td>\n",
       "      <td>...</td>\n",
       "    </tr>\n",
       "    <tr>\n",
       "      <th>1780</th>\n",
       "      <td>2022-09-24 00:00:00</td>\n",
       "      <td>1317.993286</td>\n",
       "      <td>1312.640259</td>\n",
       "      <td>1328.244629</td>\n",
       "      <td>12098209717</td>\n",
       "      <td>1317.993286</td>\n",
       "      <td>1346.255249</td>\n",
       "    </tr>\n",
       "    <tr>\n",
       "      <th>1781</th>\n",
       "      <td>2022-09-25 00:00:00</td>\n",
       "      <td>1294.216797</td>\n",
       "      <td>1275.627686</td>\n",
       "      <td>1317.938477</td>\n",
       "      <td>11802651633</td>\n",
       "      <td>1294.216797</td>\n",
       "      <td>1333.371338</td>\n",
       "    </tr>\n",
       "    <tr>\n",
       "      <th>1782</th>\n",
       "      <td>2022-09-26 00:00:00</td>\n",
       "      <td>1335.320190</td>\n",
       "      <td>1282.049316</td>\n",
       "      <td>1294.386108</td>\n",
       "      <td>16034549271</td>\n",
       "      <td>1335.320190</td>\n",
       "      <td>1335.526367</td>\n",
       "    </tr>\n",
       "    <tr>\n",
       "      <th>1783</th>\n",
       "      <td>2022-09-27 00:00:00</td>\n",
       "      <td>1330.127686</td>\n",
       "      <td>1308.991455</td>\n",
       "      <td>1335.337036</td>\n",
       "      <td>17870598937</td>\n",
       "      <td>1330.127686</td>\n",
       "      <td>1396.891479</td>\n",
       "    </tr>\n",
       "    <tr>\n",
       "      <th>1784</th>\n",
       "      <td>2022-09-28 08:54:00</td>\n",
       "      <td>1281.931763</td>\n",
       "      <td>1272.992798</td>\n",
       "      <td>1330.269531</td>\n",
       "      <td>17950496768</td>\n",
       "      <td>1281.931763</td>\n",
       "      <td>1336.616089</td>\n",
       "    </tr>\n",
       "  </tbody>\n",
       "</table>\n",
       "<p>1785 rows × 7 columns</p>\n",
       "</div>"
      ],
      "text/plain": [
       "                timestamp     adjclose          low         open       volume  \\\n",
       "0     2017-11-09 00:00:00   320.884003   307.056000   308.644989    893249984   \n",
       "1     2017-11-10 00:00:00   299.252991   294.541992   320.670990    885985984   \n",
       "2     2017-11-11 00:00:00   314.681000   298.191986   298.585999    842300992   \n",
       "3     2017-11-12 00:00:00   307.907990   298.513000   314.690002   1613479936   \n",
       "4     2017-11-13 00:00:00   316.716003   307.024994   307.024994   1041889984   \n",
       "...                   ...          ...          ...          ...          ...   \n",
       "1780  2022-09-24 00:00:00  1317.993286  1312.640259  1328.244629  12098209717   \n",
       "1781  2022-09-25 00:00:00  1294.216797  1275.627686  1317.938477  11802651633   \n",
       "1782  2022-09-26 00:00:00  1335.320190  1282.049316  1294.386108  16034549271   \n",
       "1783  2022-09-27 00:00:00  1330.127686  1308.991455  1335.337036  17870598937   \n",
       "1784  2022-09-28 08:54:00  1281.931763  1272.992798  1330.269531  17950496768   \n",
       "\n",
       "            close         high  \n",
       "0      320.884003   329.451996  \n",
       "1      299.252991   324.717987  \n",
       "2      314.681000   319.453003  \n",
       "3      307.907990   319.153015  \n",
       "4      316.716003   328.415009  \n",
       "...           ...          ...  \n",
       "1780  1317.993286  1346.255249  \n",
       "1781  1294.216797  1333.371338  \n",
       "1782  1335.320190  1335.526367  \n",
       "1783  1330.127686  1396.891479  \n",
       "1784  1281.931763  1336.616089  \n",
       "\n",
       "[1785 rows x 7 columns]"
      ]
     },
     "execution_count": 2,
     "metadata": {},
     "output_type": "execute_result"
    }
   ],
   "source": [
    "import numpy as np \n",
    "import pandas as pd\n",
    "\n",
    "\n",
    "eth = pd.read_csv('/kaggle/input/time-series-top-100-crypto-currency-dataset/ETH-USD.csv') # ETH coin data\n",
    "bnb = pd.read_csv('/kaggle/input/time-series-top-100-crypto-currency-dataset/BNB-USD.csv') #binanace coin data\n",
    "eth"
   ]
  },
  {
   "cell_type": "markdown",
   "id": "50ef667c",
   "metadata": {
    "papermill": {
     "duration": 0.012579,
     "end_time": "2024-04-26T18:36:50.497730",
     "exception": false,
     "start_time": "2024-04-26T18:36:50.485151",
     "status": "completed"
    },
    "tags": []
   },
   "source": [
    "# Data preporcessing\n"
   ]
  },
  {
   "cell_type": "markdown",
   "id": "6215ea61",
   "metadata": {
    "papermill": {
     "duration": 0.011957,
     "end_time": "2024-04-26T18:36:50.522697",
     "exception": false,
     "start_time": "2024-04-26T18:36:50.510740",
     "status": "completed"
    },
    "tags": []
   },
   "source": [
    "### Data cleaning"
   ]
  },
  {
   "cell_type": "code",
   "execution_count": 3,
   "id": "8e63d393",
   "metadata": {
    "execution": {
     "iopub.execute_input": "2024-04-26T18:36:50.549099Z",
     "iopub.status.busy": "2024-04-26T18:36:50.548426Z",
     "iopub.status.idle": "2024-04-26T18:36:50.560069Z",
     "shell.execute_reply": "2024-04-26T18:36:50.558819Z"
    },
    "papermill": {
     "duration": 0.027506,
     "end_time": "2024-04-26T18:36:50.562325",
     "exception": false,
     "start_time": "2024-04-26T18:36:50.534819",
     "status": "completed"
    },
    "tags": []
   },
   "outputs": [
    {
     "data": {
      "text/plain": [
       "timestamp    0\n",
       "adjclose     0\n",
       "low          0\n",
       "open         0\n",
       "volume       0\n",
       "close        0\n",
       "high         0\n",
       "dtype: int64"
      ]
     },
     "execution_count": 3,
     "metadata": {},
     "output_type": "execute_result"
    }
   ],
   "source": [
    "#missing values\n",
    "eth.isnull().sum()"
   ]
  },
  {
   "cell_type": "code",
   "execution_count": 4,
   "id": "9e8e6da1",
   "metadata": {
    "execution": {
     "iopub.execute_input": "2024-04-26T18:36:50.588819Z",
     "iopub.status.busy": "2024-04-26T18:36:50.588401Z",
     "iopub.status.idle": "2024-04-26T18:36:50.622171Z",
     "shell.execute_reply": "2024-04-26T18:36:50.620783Z"
    },
    "papermill": {
     "duration": 0.050083,
     "end_time": "2024-04-26T18:36:50.624658",
     "exception": false,
     "start_time": "2024-04-26T18:36:50.574575",
     "status": "completed"
    },
    "tags": []
   },
   "outputs": [
    {
     "data": {
      "text/html": [
       "<div>\n",
       "<style scoped>\n",
       "    .dataframe tbody tr th:only-of-type {\n",
       "        vertical-align: middle;\n",
       "    }\n",
       "\n",
       "    .dataframe tbody tr th {\n",
       "        vertical-align: top;\n",
       "    }\n",
       "\n",
       "    .dataframe thead th {\n",
       "        text-align: right;\n",
       "    }\n",
       "</style>\n",
       "<table border=\"1\" class=\"dataframe\">\n",
       "  <thead>\n",
       "    <tr style=\"text-align: right;\">\n",
       "      <th></th>\n",
       "      <th>adjclose</th>\n",
       "      <th>low</th>\n",
       "      <th>open</th>\n",
       "      <th>volume</th>\n",
       "      <th>close</th>\n",
       "      <th>high</th>\n",
       "    </tr>\n",
       "  </thead>\n",
       "  <tbody>\n",
       "    <tr>\n",
       "      <th>count</th>\n",
       "      <td>1785.000000</td>\n",
       "      <td>1785.000000</td>\n",
       "      <td>1785.000000</td>\n",
       "      <td>1.785000e+03</td>\n",
       "      <td>1785.000000</td>\n",
       "      <td>1785.000000</td>\n",
       "    </tr>\n",
       "    <tr>\n",
       "      <th>mean</th>\n",
       "      <td>1120.830330</td>\n",
       "      <td>1078.498985</td>\n",
       "      <td>1120.530123</td>\n",
       "      <td>1.302216e+10</td>\n",
       "      <td>1120.830330</td>\n",
       "      <td>1157.364326</td>\n",
       "    </tr>\n",
       "    <tr>\n",
       "      <th>std</th>\n",
       "      <td>1217.813261</td>\n",
       "      <td>1175.171508</td>\n",
       "      <td>1218.451695</td>\n",
       "      <td>1.092659e+10</td>\n",
       "      <td>1217.813261</td>\n",
       "      <td>1255.769033</td>\n",
       "    </tr>\n",
       "    <tr>\n",
       "      <th>min</th>\n",
       "      <td>84.308296</td>\n",
       "      <td>82.829887</td>\n",
       "      <td>84.279694</td>\n",
       "      <td>6.217330e+08</td>\n",
       "      <td>84.308296</td>\n",
       "      <td>85.342743</td>\n",
       "    </tr>\n",
       "    <tr>\n",
       "      <th>25%</th>\n",
       "      <td>207.082993</td>\n",
       "      <td>201.887238</td>\n",
       "      <td>207.100006</td>\n",
       "      <td>4.216140e+09</td>\n",
       "      <td>207.082993</td>\n",
       "      <td>211.778625</td>\n",
       "    </tr>\n",
       "    <tr>\n",
       "      <th>50%</th>\n",
       "      <td>462.436005</td>\n",
       "      <td>447.110992</td>\n",
       "      <td>462.437988</td>\n",
       "      <td>1.089479e+10</td>\n",
       "      <td>462.436005</td>\n",
       "      <td>473.558014</td>\n",
       "    </tr>\n",
       "    <tr>\n",
       "      <th>75%</th>\n",
       "      <td>1817.624146</td>\n",
       "      <td>1751.533325</td>\n",
       "      <td>1819.082031</td>\n",
       "      <td>1.833537e+10</td>\n",
       "      <td>1817.624146</td>\n",
       "      <td>1861.356934</td>\n",
       "    </tr>\n",
       "    <tr>\n",
       "      <th>max</th>\n",
       "      <td>4812.087402</td>\n",
       "      <td>4718.039062</td>\n",
       "      <td>4810.071289</td>\n",
       "      <td>8.448291e+10</td>\n",
       "      <td>4812.087402</td>\n",
       "      <td>4891.704590</td>\n",
       "    </tr>\n",
       "  </tbody>\n",
       "</table>\n",
       "</div>"
      ],
      "text/plain": [
       "          adjclose          low         open        volume        close  \\\n",
       "count  1785.000000  1785.000000  1785.000000  1.785000e+03  1785.000000   \n",
       "mean   1120.830330  1078.498985  1120.530123  1.302216e+10  1120.830330   \n",
       "std    1217.813261  1175.171508  1218.451695  1.092659e+10  1217.813261   \n",
       "min      84.308296    82.829887    84.279694  6.217330e+08    84.308296   \n",
       "25%     207.082993   201.887238   207.100006  4.216140e+09   207.082993   \n",
       "50%     462.436005   447.110992   462.437988  1.089479e+10   462.436005   \n",
       "75%    1817.624146  1751.533325  1819.082031  1.833537e+10  1817.624146   \n",
       "max    4812.087402  4718.039062  4810.071289  8.448291e+10  4812.087402   \n",
       "\n",
       "              high  \n",
       "count  1785.000000  \n",
       "mean   1157.364326  \n",
       "std    1255.769033  \n",
       "min      85.342743  \n",
       "25%     211.778625  \n",
       "50%     473.558014  \n",
       "75%    1861.356934  \n",
       "max    4891.704590  "
      ]
     },
     "execution_count": 4,
     "metadata": {},
     "output_type": "execute_result"
    }
   ],
   "source": [
    "eth.describe()"
   ]
  },
  {
   "cell_type": "code",
   "execution_count": 5,
   "id": "b46b3742",
   "metadata": {
    "execution": {
     "iopub.execute_input": "2024-04-26T18:36:50.653477Z",
     "iopub.status.busy": "2024-04-26T18:36:50.652501Z",
     "iopub.status.idle": "2024-04-26T18:36:50.664495Z",
     "shell.execute_reply": "2024-04-26T18:36:50.663622Z"
    },
    "papermill": {
     "duration": 0.02857,
     "end_time": "2024-04-26T18:36:50.667074",
     "exception": false,
     "start_time": "2024-04-26T18:36:50.638504",
     "status": "completed"
    },
    "tags": []
   },
   "outputs": [],
   "source": [
    "t = pd.to_datetime(eth['timestamp'])"
   ]
  },
  {
   "cell_type": "code",
   "execution_count": 6,
   "id": "b5b233a4",
   "metadata": {
    "execution": {
     "iopub.execute_input": "2024-04-26T18:36:50.696437Z",
     "iopub.status.busy": "2024-04-26T18:36:50.695193Z",
     "iopub.status.idle": "2024-04-26T18:36:50.706612Z",
     "shell.execute_reply": "2024-04-26T18:36:50.705378Z"
    },
    "papermill": {
     "duration": 0.028559,
     "end_time": "2024-04-26T18:36:50.709136",
     "exception": false,
     "start_time": "2024-04-26T18:36:50.680577",
     "status": "completed"
    },
    "tags": []
   },
   "outputs": [
    {
     "name": "stdout",
     "output_type": "stream",
     "text": [
      "Time difference between timestamps (seconds):\n",
      "count      1784.000000\n",
      "mean      86417.959641\n",
      "std         758.568986\n",
      "min       86400.000000\n",
      "25%       86400.000000\n",
      "50%       86400.000000\n",
      "75%       86400.000000\n",
      "max      118440.000000\n",
      "Name: timestamp, dtype: float64\n"
     ]
    }
   ],
   "source": [
    "#Cecking the inconsistency in timestamp\n",
    "# Calculate the difference between consecutive timestamps (in seconds)\n",
    "time_deltas = t.diff().dt.total_seconds()\n",
    "print(f\"Time difference between timestamps (seconds):\\n{time_deltas.describe()}\")"
   ]
  },
  {
   "cell_type": "code",
   "execution_count": 7,
   "id": "6881b7c5",
   "metadata": {
    "execution": {
     "iopub.execute_input": "2024-04-26T18:36:50.737249Z",
     "iopub.status.busy": "2024-04-26T18:36:50.736114Z",
     "iopub.status.idle": "2024-04-26T18:36:50.753971Z",
     "shell.execute_reply": "2024-04-26T18:36:50.752879Z"
    },
    "papermill": {
     "duration": 0.034468,
     "end_time": "2024-04-26T18:36:50.756412",
     "exception": false,
     "start_time": "2024-04-26T18:36:50.721944",
     "status": "completed"
    },
    "tags": []
   },
   "outputs": [
    {
     "data": {
      "text/html": [
       "<div>\n",
       "<style scoped>\n",
       "    .dataframe tbody tr th:only-of-type {\n",
       "        vertical-align: middle;\n",
       "    }\n",
       "\n",
       "    .dataframe tbody tr th {\n",
       "        vertical-align: top;\n",
       "    }\n",
       "\n",
       "    .dataframe thead th {\n",
       "        text-align: right;\n",
       "    }\n",
       "</style>\n",
       "<table border=\"1\" class=\"dataframe\">\n",
       "  <thead>\n",
       "    <tr style=\"text-align: right;\">\n",
       "      <th></th>\n",
       "      <th>timestamp</th>\n",
       "      <th>adjclose</th>\n",
       "      <th>low</th>\n",
       "      <th>open</th>\n",
       "      <th>volume</th>\n",
       "      <th>close</th>\n",
       "      <th>high</th>\n",
       "    </tr>\n",
       "  </thead>\n",
       "  <tbody>\n",
       "    <tr>\n",
       "      <th>0</th>\n",
       "      <td>2017-11-09 00:00:00</td>\n",
       "      <td>320.884003</td>\n",
       "      <td>307.056000</td>\n",
       "      <td>308.644989</td>\n",
       "      <td>893249984</td>\n",
       "      <td>320.884003</td>\n",
       "      <td>329.451996</td>\n",
       "    </tr>\n",
       "    <tr>\n",
       "      <th>1</th>\n",
       "      <td>2017-11-10 00:00:00</td>\n",
       "      <td>299.252991</td>\n",
       "      <td>294.541992</td>\n",
       "      <td>320.670990</td>\n",
       "      <td>885985984</td>\n",
       "      <td>299.252991</td>\n",
       "      <td>324.717987</td>\n",
       "    </tr>\n",
       "    <tr>\n",
       "      <th>2</th>\n",
       "      <td>2017-11-11 00:00:00</td>\n",
       "      <td>314.681000</td>\n",
       "      <td>298.191986</td>\n",
       "      <td>298.585999</td>\n",
       "      <td>842300992</td>\n",
       "      <td>314.681000</td>\n",
       "      <td>319.453003</td>\n",
       "    </tr>\n",
       "    <tr>\n",
       "      <th>3</th>\n",
       "      <td>2017-11-12 00:00:00</td>\n",
       "      <td>307.907990</td>\n",
       "      <td>298.513000</td>\n",
       "      <td>314.690002</td>\n",
       "      <td>1613479936</td>\n",
       "      <td>307.907990</td>\n",
       "      <td>319.153015</td>\n",
       "    </tr>\n",
       "    <tr>\n",
       "      <th>4</th>\n",
       "      <td>2017-11-13 00:00:00</td>\n",
       "      <td>316.716003</td>\n",
       "      <td>307.024994</td>\n",
       "      <td>307.024994</td>\n",
       "      <td>1041889984</td>\n",
       "      <td>316.716003</td>\n",
       "      <td>328.415009</td>\n",
       "    </tr>\n",
       "    <tr>\n",
       "      <th>...</th>\n",
       "      <td>...</td>\n",
       "      <td>...</td>\n",
       "      <td>...</td>\n",
       "      <td>...</td>\n",
       "      <td>...</td>\n",
       "      <td>...</td>\n",
       "      <td>...</td>\n",
       "    </tr>\n",
       "    <tr>\n",
       "      <th>1780</th>\n",
       "      <td>2022-09-24 00:00:00</td>\n",
       "      <td>1317.993286</td>\n",
       "      <td>1312.640259</td>\n",
       "      <td>1328.244629</td>\n",
       "      <td>12098209717</td>\n",
       "      <td>1317.993286</td>\n",
       "      <td>1346.255249</td>\n",
       "    </tr>\n",
       "    <tr>\n",
       "      <th>1781</th>\n",
       "      <td>2022-09-25 00:00:00</td>\n",
       "      <td>1294.216797</td>\n",
       "      <td>1275.627686</td>\n",
       "      <td>1317.938477</td>\n",
       "      <td>11802651633</td>\n",
       "      <td>1294.216797</td>\n",
       "      <td>1333.371338</td>\n",
       "    </tr>\n",
       "    <tr>\n",
       "      <th>1782</th>\n",
       "      <td>2022-09-26 00:00:00</td>\n",
       "      <td>1335.320190</td>\n",
       "      <td>1282.049316</td>\n",
       "      <td>1294.386108</td>\n",
       "      <td>16034549271</td>\n",
       "      <td>1335.320190</td>\n",
       "      <td>1335.526367</td>\n",
       "    </tr>\n",
       "    <tr>\n",
       "      <th>1783</th>\n",
       "      <td>2022-09-27 00:00:00</td>\n",
       "      <td>1330.127686</td>\n",
       "      <td>1308.991455</td>\n",
       "      <td>1335.337036</td>\n",
       "      <td>17870598937</td>\n",
       "      <td>1330.127686</td>\n",
       "      <td>1396.891479</td>\n",
       "    </tr>\n",
       "    <tr>\n",
       "      <th>1784</th>\n",
       "      <td>2022-09-28 08:54:00</td>\n",
       "      <td>1281.931763</td>\n",
       "      <td>1272.992798</td>\n",
       "      <td>1330.269531</td>\n",
       "      <td>17950496768</td>\n",
       "      <td>1281.931763</td>\n",
       "      <td>1336.616089</td>\n",
       "    </tr>\n",
       "  </tbody>\n",
       "</table>\n",
       "<p>1785 rows × 7 columns</p>\n",
       "</div>"
      ],
      "text/plain": [
       "                timestamp     adjclose          low         open       volume  \\\n",
       "0     2017-11-09 00:00:00   320.884003   307.056000   308.644989    893249984   \n",
       "1     2017-11-10 00:00:00   299.252991   294.541992   320.670990    885985984   \n",
       "2     2017-11-11 00:00:00   314.681000   298.191986   298.585999    842300992   \n",
       "3     2017-11-12 00:00:00   307.907990   298.513000   314.690002   1613479936   \n",
       "4     2017-11-13 00:00:00   316.716003   307.024994   307.024994   1041889984   \n",
       "...                   ...          ...          ...          ...          ...   \n",
       "1780  2022-09-24 00:00:00  1317.993286  1312.640259  1328.244629  12098209717   \n",
       "1781  2022-09-25 00:00:00  1294.216797  1275.627686  1317.938477  11802651633   \n",
       "1782  2022-09-26 00:00:00  1335.320190  1282.049316  1294.386108  16034549271   \n",
       "1783  2022-09-27 00:00:00  1330.127686  1308.991455  1335.337036  17870598937   \n",
       "1784  2022-09-28 08:54:00  1281.931763  1272.992798  1330.269531  17950496768   \n",
       "\n",
       "            close         high  \n",
       "0      320.884003   329.451996  \n",
       "1      299.252991   324.717987  \n",
       "2      314.681000   319.453003  \n",
       "3      307.907990   319.153015  \n",
       "4      316.716003   328.415009  \n",
       "...           ...          ...  \n",
       "1780  1317.993286  1346.255249  \n",
       "1781  1294.216797  1333.371338  \n",
       "1782  1335.320190  1335.526367  \n",
       "1783  1330.127686  1396.891479  \n",
       "1784  1281.931763  1336.616089  \n",
       "\n",
       "[1785 rows x 7 columns]"
      ]
     },
     "execution_count": 7,
     "metadata": {},
     "output_type": "execute_result"
    }
   ],
   "source": [
    "eth"
   ]
  },
  {
   "cell_type": "code",
   "execution_count": 8,
   "id": "200c1df0",
   "metadata": {
    "execution": {
     "iopub.execute_input": "2024-04-26T18:36:50.784594Z",
     "iopub.status.busy": "2024-04-26T18:36:50.784115Z",
     "iopub.status.idle": "2024-04-26T18:36:50.791506Z",
     "shell.execute_reply": "2024-04-26T18:36:50.790652Z"
    },
    "papermill": {
     "duration": 0.025065,
     "end_time": "2024-04-26T18:36:50.794616",
     "exception": false,
     "start_time": "2024-04-26T18:36:50.769551",
     "status": "completed"
    },
    "tags": []
   },
   "outputs": [],
   "source": [
    "correlation = eth.iloc[:,1:].corr(method='pearson')"
   ]
  },
  {
   "cell_type": "code",
   "execution_count": 9,
   "id": "ea318fe3",
   "metadata": {
    "execution": {
     "iopub.execute_input": "2024-04-26T18:36:50.825831Z",
     "iopub.status.busy": "2024-04-26T18:36:50.825203Z",
     "iopub.status.idle": "2024-04-26T18:36:50.836785Z",
     "shell.execute_reply": "2024-04-26T18:36:50.835312Z"
    },
    "papermill": {
     "duration": 0.028822,
     "end_time": "2024-04-26T18:36:50.839380",
     "exception": false,
     "start_time": "2024-04-26T18:36:50.810558",
     "status": "completed"
    },
    "tags": []
   },
   "outputs": [
    {
     "data": {
      "text/html": [
       "<div>\n",
       "<style scoped>\n",
       "    .dataframe tbody tr th:only-of-type {\n",
       "        vertical-align: middle;\n",
       "    }\n",
       "\n",
       "    .dataframe tbody tr th {\n",
       "        vertical-align: top;\n",
       "    }\n",
       "\n",
       "    .dataframe thead th {\n",
       "        text-align: right;\n",
       "    }\n",
       "</style>\n",
       "<table border=\"1\" class=\"dataframe\">\n",
       "  <thead>\n",
       "    <tr style=\"text-align: right;\">\n",
       "      <th></th>\n",
       "      <th>adjclose</th>\n",
       "    </tr>\n",
       "  </thead>\n",
       "  <tbody>\n",
       "    <tr>\n",
       "      <th>adjclose</th>\n",
       "      <td>1.000000</td>\n",
       "    </tr>\n",
       "    <tr>\n",
       "      <th>close</th>\n",
       "      <td>1.000000</td>\n",
       "    </tr>\n",
       "    <tr>\n",
       "      <th>low</th>\n",
       "      <td>0.998935</td>\n",
       "    </tr>\n",
       "    <tr>\n",
       "      <th>high</th>\n",
       "      <td>0.998891</td>\n",
       "    </tr>\n",
       "    <tr>\n",
       "      <th>open</th>\n",
       "      <td>0.997809</td>\n",
       "    </tr>\n",
       "    <tr>\n",
       "      <th>volume</th>\n",
       "      <td>0.546383</td>\n",
       "    </tr>\n",
       "  </tbody>\n",
       "</table>\n",
       "</div>"
      ],
      "text/plain": [
       "          adjclose\n",
       "adjclose  1.000000\n",
       "close     1.000000\n",
       "low       0.998935\n",
       "high      0.998891\n",
       "open      0.997809\n",
       "volume    0.546383"
      ]
     },
     "execution_count": 9,
     "metadata": {},
     "output_type": "execute_result"
    }
   ],
   "source": [
    "correlation[['adjclose']].sort_values(['adjclose'], ascending=False)"
   ]
  },
  {
   "cell_type": "markdown",
   "id": "5e95ff14",
   "metadata": {
    "papermill": {
     "duration": 0.01307,
     "end_time": "2024-04-26T18:36:50.865944",
     "exception": false,
     "start_time": "2024-04-26T18:36:50.852874",
     "status": "completed"
    },
    "tags": []
   },
   "source": [
    "### feature engineering"
   ]
  },
  {
   "cell_type": "code",
   "execution_count": 10,
   "id": "be5cfdfb",
   "metadata": {
    "execution": {
     "iopub.execute_input": "2024-04-26T18:36:50.894499Z",
     "iopub.status.busy": "2024-04-26T18:36:50.893798Z",
     "iopub.status.idle": "2024-04-26T18:36:50.899079Z",
     "shell.execute_reply": "2024-04-26T18:36:50.898301Z"
    },
    "papermill": {
     "duration": 0.021944,
     "end_time": "2024-04-26T18:36:50.901189",
     "exception": false,
     "start_time": "2024-04-26T18:36:50.879245",
     "status": "completed"
    },
    "tags": []
   },
   "outputs": [],
   "source": [
    "#feature selection\n",
    "#Remove the close and as it is same as adjclose and we are considering adjclose also remove the \n",
    "#volume as it does not effect the the values of adjclose.\n",
    "eth = eth.drop(['volume','close'],axis = 1)"
   ]
  },
  {
   "cell_type": "code",
   "execution_count": 11,
   "id": "deb15713",
   "metadata": {
    "execution": {
     "iopub.execute_input": "2024-04-26T18:36:50.929064Z",
     "iopub.status.busy": "2024-04-26T18:36:50.928637Z",
     "iopub.status.idle": "2024-04-26T18:36:50.944756Z",
     "shell.execute_reply": "2024-04-26T18:36:50.943595Z"
    },
    "papermill": {
     "duration": 0.032599,
     "end_time": "2024-04-26T18:36:50.946992",
     "exception": false,
     "start_time": "2024-04-26T18:36:50.914393",
     "status": "completed"
    },
    "tags": []
   },
   "outputs": [
    {
     "data": {
      "text/html": [
       "<div>\n",
       "<style scoped>\n",
       "    .dataframe tbody tr th:only-of-type {\n",
       "        vertical-align: middle;\n",
       "    }\n",
       "\n",
       "    .dataframe tbody tr th {\n",
       "        vertical-align: top;\n",
       "    }\n",
       "\n",
       "    .dataframe thead th {\n",
       "        text-align: right;\n",
       "    }\n",
       "</style>\n",
       "<table border=\"1\" class=\"dataframe\">\n",
       "  <thead>\n",
       "    <tr style=\"text-align: right;\">\n",
       "      <th></th>\n",
       "      <th>timestamp</th>\n",
       "      <th>adjclose</th>\n",
       "      <th>low</th>\n",
       "      <th>open</th>\n",
       "      <th>high</th>\n",
       "    </tr>\n",
       "  </thead>\n",
       "  <tbody>\n",
       "    <tr>\n",
       "      <th>0</th>\n",
       "      <td>2017-11-09 00:00:00</td>\n",
       "      <td>320.884003</td>\n",
       "      <td>307.056000</td>\n",
       "      <td>308.644989</td>\n",
       "      <td>329.451996</td>\n",
       "    </tr>\n",
       "    <tr>\n",
       "      <th>1</th>\n",
       "      <td>2017-11-10 00:00:00</td>\n",
       "      <td>299.252991</td>\n",
       "      <td>294.541992</td>\n",
       "      <td>320.670990</td>\n",
       "      <td>324.717987</td>\n",
       "    </tr>\n",
       "    <tr>\n",
       "      <th>2</th>\n",
       "      <td>2017-11-11 00:00:00</td>\n",
       "      <td>314.681000</td>\n",
       "      <td>298.191986</td>\n",
       "      <td>298.585999</td>\n",
       "      <td>319.453003</td>\n",
       "    </tr>\n",
       "    <tr>\n",
       "      <th>3</th>\n",
       "      <td>2017-11-12 00:00:00</td>\n",
       "      <td>307.907990</td>\n",
       "      <td>298.513000</td>\n",
       "      <td>314.690002</td>\n",
       "      <td>319.153015</td>\n",
       "    </tr>\n",
       "    <tr>\n",
       "      <th>4</th>\n",
       "      <td>2017-11-13 00:00:00</td>\n",
       "      <td>316.716003</td>\n",
       "      <td>307.024994</td>\n",
       "      <td>307.024994</td>\n",
       "      <td>328.415009</td>\n",
       "    </tr>\n",
       "    <tr>\n",
       "      <th>...</th>\n",
       "      <td>...</td>\n",
       "      <td>...</td>\n",
       "      <td>...</td>\n",
       "      <td>...</td>\n",
       "      <td>...</td>\n",
       "    </tr>\n",
       "    <tr>\n",
       "      <th>1780</th>\n",
       "      <td>2022-09-24 00:00:00</td>\n",
       "      <td>1317.993286</td>\n",
       "      <td>1312.640259</td>\n",
       "      <td>1328.244629</td>\n",
       "      <td>1346.255249</td>\n",
       "    </tr>\n",
       "    <tr>\n",
       "      <th>1781</th>\n",
       "      <td>2022-09-25 00:00:00</td>\n",
       "      <td>1294.216797</td>\n",
       "      <td>1275.627686</td>\n",
       "      <td>1317.938477</td>\n",
       "      <td>1333.371338</td>\n",
       "    </tr>\n",
       "    <tr>\n",
       "      <th>1782</th>\n",
       "      <td>2022-09-26 00:00:00</td>\n",
       "      <td>1335.320190</td>\n",
       "      <td>1282.049316</td>\n",
       "      <td>1294.386108</td>\n",
       "      <td>1335.526367</td>\n",
       "    </tr>\n",
       "    <tr>\n",
       "      <th>1783</th>\n",
       "      <td>2022-09-27 00:00:00</td>\n",
       "      <td>1330.127686</td>\n",
       "      <td>1308.991455</td>\n",
       "      <td>1335.337036</td>\n",
       "      <td>1396.891479</td>\n",
       "    </tr>\n",
       "    <tr>\n",
       "      <th>1784</th>\n",
       "      <td>2022-09-28 08:54:00</td>\n",
       "      <td>1281.931763</td>\n",
       "      <td>1272.992798</td>\n",
       "      <td>1330.269531</td>\n",
       "      <td>1336.616089</td>\n",
       "    </tr>\n",
       "  </tbody>\n",
       "</table>\n",
       "<p>1785 rows × 5 columns</p>\n",
       "</div>"
      ],
      "text/plain": [
       "                timestamp     adjclose          low         open         high\n",
       "0     2017-11-09 00:00:00   320.884003   307.056000   308.644989   329.451996\n",
       "1     2017-11-10 00:00:00   299.252991   294.541992   320.670990   324.717987\n",
       "2     2017-11-11 00:00:00   314.681000   298.191986   298.585999   319.453003\n",
       "3     2017-11-12 00:00:00   307.907990   298.513000   314.690002   319.153015\n",
       "4     2017-11-13 00:00:00   316.716003   307.024994   307.024994   328.415009\n",
       "...                   ...          ...          ...          ...          ...\n",
       "1780  2022-09-24 00:00:00  1317.993286  1312.640259  1328.244629  1346.255249\n",
       "1781  2022-09-25 00:00:00  1294.216797  1275.627686  1317.938477  1333.371338\n",
       "1782  2022-09-26 00:00:00  1335.320190  1282.049316  1294.386108  1335.526367\n",
       "1783  2022-09-27 00:00:00  1330.127686  1308.991455  1335.337036  1396.891479\n",
       "1784  2022-09-28 08:54:00  1281.931763  1272.992798  1330.269531  1336.616089\n",
       "\n",
       "[1785 rows x 5 columns]"
      ]
     },
     "execution_count": 11,
     "metadata": {},
     "output_type": "execute_result"
    }
   ],
   "source": [
    "eth"
   ]
  },
  {
   "cell_type": "code",
   "execution_count": 12,
   "id": "2b007634",
   "metadata": {
    "execution": {
     "iopub.execute_input": "2024-04-26T18:36:50.976763Z",
     "iopub.status.busy": "2024-04-26T18:36:50.975893Z",
     "iopub.status.idle": "2024-04-26T18:36:50.986725Z",
     "shell.execute_reply": "2024-04-26T18:36:50.985570Z"
    },
    "papermill": {
     "duration": 0.028385,
     "end_time": "2024-04-26T18:36:50.989248",
     "exception": false,
     "start_time": "2024-04-26T18:36:50.960863",
     "status": "completed"
    },
    "tags": []
   },
   "outputs": [],
   "source": [
    "lag_val = 2\n",
    "for col in eth.columns[1:]:\n",
    "    for lag in range(1, lag_val+1):\n",
    "        eth[f'{col}_lag{lag}'] = eth[col].shift(lag)\n",
    "        "
   ]
  },
  {
   "cell_type": "code",
   "execution_count": 13,
   "id": "b0a1fded",
   "metadata": {
    "execution": {
     "iopub.execute_input": "2024-04-26T18:36:51.018999Z",
     "iopub.status.busy": "2024-04-26T18:36:51.018603Z",
     "iopub.status.idle": "2024-04-26T18:36:51.038518Z",
     "shell.execute_reply": "2024-04-26T18:36:51.037404Z"
    },
    "papermill": {
     "duration": 0.037573,
     "end_time": "2024-04-26T18:36:51.040951",
     "exception": false,
     "start_time": "2024-04-26T18:36:51.003378",
     "status": "completed"
    },
    "tags": []
   },
   "outputs": [
    {
     "data": {
      "text/html": [
       "<div>\n",
       "<style scoped>\n",
       "    .dataframe tbody tr th:only-of-type {\n",
       "        vertical-align: middle;\n",
       "    }\n",
       "\n",
       "    .dataframe tbody tr th {\n",
       "        vertical-align: top;\n",
       "    }\n",
       "\n",
       "    .dataframe thead th {\n",
       "        text-align: right;\n",
       "    }\n",
       "</style>\n",
       "<table border=\"1\" class=\"dataframe\">\n",
       "  <thead>\n",
       "    <tr style=\"text-align: right;\">\n",
       "      <th></th>\n",
       "      <th>timestamp</th>\n",
       "      <th>adjclose</th>\n",
       "      <th>low</th>\n",
       "      <th>open</th>\n",
       "      <th>high</th>\n",
       "      <th>adjclose_lag1</th>\n",
       "      <th>adjclose_lag2</th>\n",
       "      <th>low_lag1</th>\n",
       "      <th>low_lag2</th>\n",
       "      <th>open_lag1</th>\n",
       "      <th>open_lag2</th>\n",
       "      <th>high_lag1</th>\n",
       "      <th>high_lag2</th>\n",
       "    </tr>\n",
       "  </thead>\n",
       "  <tbody>\n",
       "    <tr>\n",
       "      <th>0</th>\n",
       "      <td>2017-11-09 00:00:00</td>\n",
       "      <td>320.884003</td>\n",
       "      <td>307.056000</td>\n",
       "      <td>308.644989</td>\n",
       "      <td>329.451996</td>\n",
       "      <td>NaN</td>\n",
       "      <td>NaN</td>\n",
       "      <td>NaN</td>\n",
       "      <td>NaN</td>\n",
       "      <td>NaN</td>\n",
       "      <td>NaN</td>\n",
       "      <td>NaN</td>\n",
       "      <td>NaN</td>\n",
       "    </tr>\n",
       "    <tr>\n",
       "      <th>1</th>\n",
       "      <td>2017-11-10 00:00:00</td>\n",
       "      <td>299.252991</td>\n",
       "      <td>294.541992</td>\n",
       "      <td>320.670990</td>\n",
       "      <td>324.717987</td>\n",
       "      <td>320.884003</td>\n",
       "      <td>NaN</td>\n",
       "      <td>307.056000</td>\n",
       "      <td>NaN</td>\n",
       "      <td>308.644989</td>\n",
       "      <td>NaN</td>\n",
       "      <td>329.451996</td>\n",
       "      <td>NaN</td>\n",
       "    </tr>\n",
       "    <tr>\n",
       "      <th>2</th>\n",
       "      <td>2017-11-11 00:00:00</td>\n",
       "      <td>314.681000</td>\n",
       "      <td>298.191986</td>\n",
       "      <td>298.585999</td>\n",
       "      <td>319.453003</td>\n",
       "      <td>299.252991</td>\n",
       "      <td>320.884003</td>\n",
       "      <td>294.541992</td>\n",
       "      <td>307.056000</td>\n",
       "      <td>320.670990</td>\n",
       "      <td>308.644989</td>\n",
       "      <td>324.717987</td>\n",
       "      <td>329.451996</td>\n",
       "    </tr>\n",
       "    <tr>\n",
       "      <th>3</th>\n",
       "      <td>2017-11-12 00:00:00</td>\n",
       "      <td>307.907990</td>\n",
       "      <td>298.513000</td>\n",
       "      <td>314.690002</td>\n",
       "      <td>319.153015</td>\n",
       "      <td>314.681000</td>\n",
       "      <td>299.252991</td>\n",
       "      <td>298.191986</td>\n",
       "      <td>294.541992</td>\n",
       "      <td>298.585999</td>\n",
       "      <td>320.670990</td>\n",
       "      <td>319.453003</td>\n",
       "      <td>324.717987</td>\n",
       "    </tr>\n",
       "    <tr>\n",
       "      <th>4</th>\n",
       "      <td>2017-11-13 00:00:00</td>\n",
       "      <td>316.716003</td>\n",
       "      <td>307.024994</td>\n",
       "      <td>307.024994</td>\n",
       "      <td>328.415009</td>\n",
       "      <td>307.907990</td>\n",
       "      <td>314.681000</td>\n",
       "      <td>298.513000</td>\n",
       "      <td>298.191986</td>\n",
       "      <td>314.690002</td>\n",
       "      <td>298.585999</td>\n",
       "      <td>319.153015</td>\n",
       "      <td>319.453003</td>\n",
       "    </tr>\n",
       "  </tbody>\n",
       "</table>\n",
       "</div>"
      ],
      "text/plain": [
       "             timestamp    adjclose         low        open        high  \\\n",
       "0  2017-11-09 00:00:00  320.884003  307.056000  308.644989  329.451996   \n",
       "1  2017-11-10 00:00:00  299.252991  294.541992  320.670990  324.717987   \n",
       "2  2017-11-11 00:00:00  314.681000  298.191986  298.585999  319.453003   \n",
       "3  2017-11-12 00:00:00  307.907990  298.513000  314.690002  319.153015   \n",
       "4  2017-11-13 00:00:00  316.716003  307.024994  307.024994  328.415009   \n",
       "\n",
       "   adjclose_lag1  adjclose_lag2    low_lag1    low_lag2   open_lag1  \\\n",
       "0            NaN            NaN         NaN         NaN         NaN   \n",
       "1     320.884003            NaN  307.056000         NaN  308.644989   \n",
       "2     299.252991     320.884003  294.541992  307.056000  320.670990   \n",
       "3     314.681000     299.252991  298.191986  294.541992  298.585999   \n",
       "4     307.907990     314.681000  298.513000  298.191986  314.690002   \n",
       "\n",
       "    open_lag2   high_lag1   high_lag2  \n",
       "0         NaN         NaN         NaN  \n",
       "1         NaN  329.451996         NaN  \n",
       "2  308.644989  324.717987  329.451996  \n",
       "3  320.670990  319.453003  324.717987  \n",
       "4  298.585999  319.153015  319.453003  "
      ]
     },
     "execution_count": 13,
     "metadata": {},
     "output_type": "execute_result"
    }
   ],
   "source": [
    "eth.head()"
   ]
  },
  {
   "cell_type": "code",
   "execution_count": 14,
   "id": "42fa12b6",
   "metadata": {
    "execution": {
     "iopub.execute_input": "2024-04-26T18:36:51.071281Z",
     "iopub.status.busy": "2024-04-26T18:36:51.070432Z",
     "iopub.status.idle": "2024-04-26T18:36:51.080638Z",
     "shell.execute_reply": "2024-04-26T18:36:51.079754Z"
    },
    "papermill": {
     "duration": 0.027954,
     "end_time": "2024-04-26T18:36:51.082848",
     "exception": false,
     "start_time": "2024-04-26T18:36:51.054894",
     "status": "completed"
    },
    "tags": []
   },
   "outputs": [
    {
     "data": {
      "text/plain": [
       "timestamp        0\n",
       "adjclose         0\n",
       "low              0\n",
       "open             0\n",
       "high             0\n",
       "adjclose_lag1    1\n",
       "adjclose_lag2    2\n",
       "low_lag1         1\n",
       "low_lag2         2\n",
       "open_lag1        1\n",
       "open_lag2        2\n",
       "high_lag1        1\n",
       "high_lag2        2\n",
       "dtype: int64"
      ]
     },
     "execution_count": 14,
     "metadata": {},
     "output_type": "execute_result"
    }
   ],
   "source": [
    "eth.isna().sum()"
   ]
  },
  {
   "cell_type": "code",
   "execution_count": 15,
   "id": "4348a7b1",
   "metadata": {
    "execution": {
     "iopub.execute_input": "2024-04-26T18:36:51.113367Z",
     "iopub.status.busy": "2024-04-26T18:36:51.112983Z",
     "iopub.status.idle": "2024-04-26T18:36:51.120991Z",
     "shell.execute_reply": "2024-04-26T18:36:51.119892Z"
    },
    "papermill": {
     "duration": 0.026535,
     "end_time": "2024-04-26T18:36:51.123508",
     "exception": false,
     "start_time": "2024-04-26T18:36:51.096973",
     "status": "completed"
    },
    "tags": []
   },
   "outputs": [],
   "source": [
    "eth = eth.dropna()"
   ]
  },
  {
   "cell_type": "code",
   "execution_count": 16,
   "id": "211cc13a",
   "metadata": {
    "execution": {
     "iopub.execute_input": "2024-04-26T18:36:51.156901Z",
     "iopub.status.busy": "2024-04-26T18:36:51.156506Z",
     "iopub.status.idle": "2024-04-26T18:36:51.164898Z",
     "shell.execute_reply": "2024-04-26T18:36:51.163683Z"
    },
    "papermill": {
     "duration": 0.029143,
     "end_time": "2024-04-26T18:36:51.167630",
     "exception": false,
     "start_time": "2024-04-26T18:36:51.138487",
     "status": "completed"
    },
    "tags": []
   },
   "outputs": [],
   "source": [
    "#this correlation is to see the correlation of lags witht eh adjclose value\n",
    "correlation2 = eth.iloc[:,1:].corr(method='pearson')"
   ]
  },
  {
   "cell_type": "code",
   "execution_count": 17,
   "id": "d48d6fb7",
   "metadata": {
    "execution": {
     "iopub.execute_input": "2024-04-26T18:36:51.198251Z",
     "iopub.status.busy": "2024-04-26T18:36:51.197845Z",
     "iopub.status.idle": "2024-04-26T18:36:51.210461Z",
     "shell.execute_reply": "2024-04-26T18:36:51.209447Z"
    },
    "papermill": {
     "duration": 0.030472,
     "end_time": "2024-04-26T18:36:51.212745",
     "exception": false,
     "start_time": "2024-04-26T18:36:51.182273",
     "status": "completed"
    },
    "tags": []
   },
   "outputs": [
    {
     "data": {
      "text/html": [
       "<div>\n",
       "<style scoped>\n",
       "    .dataframe tbody tr th:only-of-type {\n",
       "        vertical-align: middle;\n",
       "    }\n",
       "\n",
       "    .dataframe tbody tr th {\n",
       "        vertical-align: top;\n",
       "    }\n",
       "\n",
       "    .dataframe thead th {\n",
       "        text-align: right;\n",
       "    }\n",
       "</style>\n",
       "<table border=\"1\" class=\"dataframe\">\n",
       "  <thead>\n",
       "    <tr style=\"text-align: right;\">\n",
       "      <th></th>\n",
       "      <th>adjclose</th>\n",
       "    </tr>\n",
       "  </thead>\n",
       "  <tbody>\n",
       "    <tr>\n",
       "      <th>adjclose</th>\n",
       "      <td>1.000000</td>\n",
       "    </tr>\n",
       "    <tr>\n",
       "      <th>low</th>\n",
       "      <td>0.998934</td>\n",
       "    </tr>\n",
       "    <tr>\n",
       "      <th>high</th>\n",
       "      <td>0.998891</td>\n",
       "    </tr>\n",
       "    <tr>\n",
       "      <th>adjclose_lag1</th>\n",
       "      <td>0.997834</td>\n",
       "    </tr>\n",
       "    <tr>\n",
       "      <th>open</th>\n",
       "      <td>0.997808</td>\n",
       "    </tr>\n",
       "    <tr>\n",
       "      <th>high_lag1</th>\n",
       "      <td>0.996898</td>\n",
       "    </tr>\n",
       "    <tr>\n",
       "      <th>low_lag1</th>\n",
       "      <td>0.996677</td>\n",
       "    </tr>\n",
       "    <tr>\n",
       "      <th>adjclose_lag2</th>\n",
       "      <td>0.995952</td>\n",
       "    </tr>\n",
       "    <tr>\n",
       "      <th>open_lag1</th>\n",
       "      <td>0.995947</td>\n",
       "    </tr>\n",
       "    <tr>\n",
       "      <th>high_lag2</th>\n",
       "      <td>0.995009</td>\n",
       "    </tr>\n",
       "    <tr>\n",
       "      <th>low_lag2</th>\n",
       "      <td>0.994824</td>\n",
       "    </tr>\n",
       "    <tr>\n",
       "      <th>open_lag2</th>\n",
       "      <td>0.993999</td>\n",
       "    </tr>\n",
       "  </tbody>\n",
       "</table>\n",
       "</div>"
      ],
      "text/plain": [
       "               adjclose\n",
       "adjclose       1.000000\n",
       "low            0.998934\n",
       "high           0.998891\n",
       "adjclose_lag1  0.997834\n",
       "open           0.997808\n",
       "high_lag1      0.996898\n",
       "low_lag1       0.996677\n",
       "adjclose_lag2  0.995952\n",
       "open_lag1      0.995947\n",
       "high_lag2      0.995009\n",
       "low_lag2       0.994824\n",
       "open_lag2      0.993999"
      ]
     },
     "execution_count": 17,
     "metadata": {},
     "output_type": "execute_result"
    }
   ],
   "source": [
    "correlation2[['adjclose']].sort_values(['adjclose'], ascending=False)"
   ]
  },
  {
   "cell_type": "markdown",
   "id": "447ca8e3",
   "metadata": {
    "papermill": {
     "duration": 0.014145,
     "end_time": "2024-04-26T18:36:51.241513",
     "exception": false,
     "start_time": "2024-04-26T18:36:51.227368",
     "status": "completed"
    },
    "tags": []
   },
   "source": [
    "### model building"
   ]
  },
  {
   "cell_type": "code",
   "execution_count": 18,
   "id": "5910d003",
   "metadata": {
    "execution": {
     "iopub.execute_input": "2024-04-26T18:36:51.272380Z",
     "iopub.status.busy": "2024-04-26T18:36:51.271957Z",
     "iopub.status.idle": "2024-04-26T18:36:51.292001Z",
     "shell.execute_reply": "2024-04-26T18:36:51.290939Z"
    },
    "papermill": {
     "duration": 0.038114,
     "end_time": "2024-04-26T18:36:51.294144",
     "exception": false,
     "start_time": "2024-04-26T18:36:51.256030",
     "status": "completed"
    },
    "tags": []
   },
   "outputs": [
    {
     "data": {
      "text/html": [
       "<div>\n",
       "<style scoped>\n",
       "    .dataframe tbody tr th:only-of-type {\n",
       "        vertical-align: middle;\n",
       "    }\n",
       "\n",
       "    .dataframe tbody tr th {\n",
       "        vertical-align: top;\n",
       "    }\n",
       "\n",
       "    .dataframe thead th {\n",
       "        text-align: right;\n",
       "    }\n",
       "</style>\n",
       "<table border=\"1\" class=\"dataframe\">\n",
       "  <thead>\n",
       "    <tr style=\"text-align: right;\">\n",
       "      <th></th>\n",
       "      <th>timestamp</th>\n",
       "      <th>adjclose</th>\n",
       "      <th>low</th>\n",
       "      <th>open</th>\n",
       "      <th>high</th>\n",
       "      <th>adjclose_lag1</th>\n",
       "      <th>adjclose_lag2</th>\n",
       "      <th>low_lag1</th>\n",
       "      <th>low_lag2</th>\n",
       "      <th>open_lag1</th>\n",
       "      <th>open_lag2</th>\n",
       "      <th>high_lag1</th>\n",
       "      <th>high_lag2</th>\n",
       "    </tr>\n",
       "  </thead>\n",
       "  <tbody>\n",
       "    <tr>\n",
       "      <th>2</th>\n",
       "      <td>2017-11-11 00:00:00</td>\n",
       "      <td>314.681000</td>\n",
       "      <td>298.191986</td>\n",
       "      <td>298.585999</td>\n",
       "      <td>319.453003</td>\n",
       "      <td>299.252991</td>\n",
       "      <td>320.884003</td>\n",
       "      <td>294.541992</td>\n",
       "      <td>307.056000</td>\n",
       "      <td>320.670990</td>\n",
       "      <td>308.644989</td>\n",
       "      <td>324.717987</td>\n",
       "      <td>329.451996</td>\n",
       "    </tr>\n",
       "    <tr>\n",
       "      <th>3</th>\n",
       "      <td>2017-11-12 00:00:00</td>\n",
       "      <td>307.907990</td>\n",
       "      <td>298.513000</td>\n",
       "      <td>314.690002</td>\n",
       "      <td>319.153015</td>\n",
       "      <td>314.681000</td>\n",
       "      <td>299.252991</td>\n",
       "      <td>298.191986</td>\n",
       "      <td>294.541992</td>\n",
       "      <td>298.585999</td>\n",
       "      <td>320.670990</td>\n",
       "      <td>319.453003</td>\n",
       "      <td>324.717987</td>\n",
       "    </tr>\n",
       "    <tr>\n",
       "      <th>4</th>\n",
       "      <td>2017-11-13 00:00:00</td>\n",
       "      <td>316.716003</td>\n",
       "      <td>307.024994</td>\n",
       "      <td>307.024994</td>\n",
       "      <td>328.415009</td>\n",
       "      <td>307.907990</td>\n",
       "      <td>314.681000</td>\n",
       "      <td>298.513000</td>\n",
       "      <td>298.191986</td>\n",
       "      <td>314.690002</td>\n",
       "      <td>298.585999</td>\n",
       "      <td>319.153015</td>\n",
       "      <td>319.453003</td>\n",
       "    </tr>\n",
       "    <tr>\n",
       "      <th>5</th>\n",
       "      <td>2017-11-14 00:00:00</td>\n",
       "      <td>337.631012</td>\n",
       "      <td>316.763000</td>\n",
       "      <td>316.763000</td>\n",
       "      <td>340.177002</td>\n",
       "      <td>316.716003</td>\n",
       "      <td>307.907990</td>\n",
       "      <td>307.024994</td>\n",
       "      <td>298.513000</td>\n",
       "      <td>307.024994</td>\n",
       "      <td>314.690002</td>\n",
       "      <td>328.415009</td>\n",
       "      <td>319.153015</td>\n",
       "    </tr>\n",
       "    <tr>\n",
       "      <th>6</th>\n",
       "      <td>2017-11-15 00:00:00</td>\n",
       "      <td>333.356995</td>\n",
       "      <td>329.812988</td>\n",
       "      <td>337.963989</td>\n",
       "      <td>340.911987</td>\n",
       "      <td>337.631012</td>\n",
       "      <td>316.716003</td>\n",
       "      <td>316.763000</td>\n",
       "      <td>307.024994</td>\n",
       "      <td>316.763000</td>\n",
       "      <td>307.024994</td>\n",
       "      <td>340.177002</td>\n",
       "      <td>328.415009</td>\n",
       "    </tr>\n",
       "  </tbody>\n",
       "</table>\n",
       "</div>"
      ],
      "text/plain": [
       "             timestamp    adjclose         low        open        high  \\\n",
       "2  2017-11-11 00:00:00  314.681000  298.191986  298.585999  319.453003   \n",
       "3  2017-11-12 00:00:00  307.907990  298.513000  314.690002  319.153015   \n",
       "4  2017-11-13 00:00:00  316.716003  307.024994  307.024994  328.415009   \n",
       "5  2017-11-14 00:00:00  337.631012  316.763000  316.763000  340.177002   \n",
       "6  2017-11-15 00:00:00  333.356995  329.812988  337.963989  340.911987   \n",
       "\n",
       "   adjclose_lag1  adjclose_lag2    low_lag1    low_lag2   open_lag1  \\\n",
       "2     299.252991     320.884003  294.541992  307.056000  320.670990   \n",
       "3     314.681000     299.252991  298.191986  294.541992  298.585999   \n",
       "4     307.907990     314.681000  298.513000  298.191986  314.690002   \n",
       "5     316.716003     307.907990  307.024994  298.513000  307.024994   \n",
       "6     337.631012     316.716003  316.763000  307.024994  316.763000   \n",
       "\n",
       "    open_lag2   high_lag1   high_lag2  \n",
       "2  308.644989  324.717987  329.451996  \n",
       "3  320.670990  319.453003  324.717987  \n",
       "4  298.585999  319.153015  319.453003  \n",
       "5  314.690002  328.415009  319.153015  \n",
       "6  307.024994  340.177002  328.415009  "
      ]
     },
     "execution_count": 18,
     "metadata": {},
     "output_type": "execute_result"
    }
   ],
   "source": [
    "eth.head()"
   ]
  },
  {
   "cell_type": "code",
   "execution_count": 19,
   "id": "429faecc",
   "metadata": {
    "execution": {
     "iopub.execute_input": "2024-04-26T18:36:51.328806Z",
     "iopub.status.busy": "2024-04-26T18:36:51.328405Z",
     "iopub.status.idle": "2024-04-26T18:36:51.334833Z",
     "shell.execute_reply": "2024-04-26T18:36:51.333457Z"
    },
    "papermill": {
     "duration": 0.026877,
     "end_time": "2024-04-26T18:36:51.337150",
     "exception": false,
     "start_time": "2024-04-26T18:36:51.310273",
     "status": "completed"
    },
    "tags": []
   },
   "outputs": [],
   "source": [
    "eth = eth.drop('timestamp',axis = 1)"
   ]
  },
  {
   "cell_type": "code",
   "execution_count": 20,
   "id": "432e940f",
   "metadata": {
    "execution": {
     "iopub.execute_input": "2024-04-26T18:36:51.368821Z",
     "iopub.status.busy": "2024-04-26T18:36:51.368402Z",
     "iopub.status.idle": "2024-04-26T18:36:51.375153Z",
     "shell.execute_reply": "2024-04-26T18:36:51.374093Z"
    },
    "papermill": {
     "duration": 0.024831,
     "end_time": "2024-04-26T18:36:51.377179",
     "exception": false,
     "start_time": "2024-04-26T18:36:51.352348",
     "status": "completed"
    },
    "tags": []
   },
   "outputs": [],
   "source": [
    "Y = eth['adjclose']\n",
    "X = eth.drop('adjclose',axis = 1)"
   ]
  },
  {
   "cell_type": "code",
   "execution_count": 21,
   "id": "4df483d1",
   "metadata": {
    "execution": {
     "iopub.execute_input": "2024-04-26T18:36:51.408417Z",
     "iopub.status.busy": "2024-04-26T18:36:51.408020Z",
     "iopub.status.idle": "2024-04-26T18:36:52.721075Z",
     "shell.execute_reply": "2024-04-26T18:36:52.719990Z"
    },
    "papermill": {
     "duration": 1.331931,
     "end_time": "2024-04-26T18:36:52.723857",
     "exception": false,
     "start_time": "2024-04-26T18:36:51.391926",
     "status": "completed"
    },
    "tags": []
   },
   "outputs": [],
   "source": [
    "#scaling target feature\n",
    "import sklearn\n",
    "from sklearn.preprocessing import MinMaxScaler\n",
    "\n",
    "def normalize_data(data):\n",
    "    \"\"\"\n",
    "    Normalize the data using Min-Max scaling for each column.\n",
    "\n",
    "    Parameters:\n",
    "        data (DataFrame): Data to be normalized.\n",
    "\n",
    "    Returns:\n",
    "        normalized_data (DataFrame): Normalized data.\n",
    "        scalers (dict): Dictionary containing scalers for each column.\n",
    "    \"\"\"\n",
    "    scalers = {}\n",
    "    normalized_data = data.copy()\n",
    "    for column in data.columns:\n",
    "        scaler = MinMaxScaler()\n",
    "        normalized_column = scaler.fit_transform(data[[column]])\n",
    "        normalized_data[column] = normalized_column\n",
    "        scalers[column] = scaler\n",
    "    return normalized_data, scalers\n"
   ]
  },
  {
   "cell_type": "markdown",
   "id": "cca87e76",
   "metadata": {
    "papermill": {
     "duration": 0.014354,
     "end_time": "2024-04-26T18:36:52.752962",
     "exception": false,
     "start_time": "2024-04-26T18:36:52.738608",
     "status": "completed"
    },
    "tags": []
   },
   "source": [
    "### split the data"
   ]
  },
  {
   "cell_type": "code",
   "execution_count": 22,
   "id": "e1e2be16",
   "metadata": {
    "execution": {
     "iopub.execute_input": "2024-04-26T18:36:52.784741Z",
     "iopub.status.busy": "2024-04-26T18:36:52.783912Z",
     "iopub.status.idle": "2024-04-26T18:36:52.905390Z",
     "shell.execute_reply": "2024-04-26T18:36:52.904064Z"
    },
    "papermill": {
     "duration": 0.140671,
     "end_time": "2024-04-26T18:36:52.908466",
     "exception": false,
     "start_time": "2024-04-26T18:36:52.767795",
     "status": "completed"
    },
    "tags": []
   },
   "outputs": [],
   "source": [
    "from sklearn.model_selection import train_test_split\n",
    "X_train, X_test, y_train, y_test = train_test_split(X, Y, test_size=0.25, random_state=42)"
   ]
  },
  {
   "cell_type": "code",
   "execution_count": 23,
   "id": "6d817030",
   "metadata": {
    "execution": {
     "iopub.execute_input": "2024-04-26T18:36:52.939900Z",
     "iopub.status.busy": "2024-04-26T18:36:52.939500Z",
     "iopub.status.idle": "2024-04-26T18:36:52.944165Z",
     "shell.execute_reply": "2024-04-26T18:36:52.943035Z"
    },
    "papermill": {
     "duration": 0.023323,
     "end_time": "2024-04-26T18:36:52.946621",
     "exception": false,
     "start_time": "2024-04-26T18:36:52.923298",
     "status": "completed"
    },
    "tags": []
   },
   "outputs": [],
   "source": [
    "# y_train = y_train.values\n",
    "# y_test = y_test.values"
   ]
  },
  {
   "cell_type": "code",
   "execution_count": 24,
   "id": "3bd7486d",
   "metadata": {
    "execution": {
     "iopub.execute_input": "2024-04-26T18:36:52.978399Z",
     "iopub.status.busy": "2024-04-26T18:36:52.978034Z",
     "iopub.status.idle": "2024-04-26T18:36:52.982675Z",
     "shell.execute_reply": "2024-04-26T18:36:52.981553Z"
    },
    "papermill": {
     "duration": 0.023305,
     "end_time": "2024-04-26T18:36:52.984991",
     "exception": false,
     "start_time": "2024-04-26T18:36:52.961686",
     "status": "completed"
    },
    "tags": []
   },
   "outputs": [],
   "source": [
    "#we have not used the the text data to avoid data leak\n",
    "# X_train_normalized, X_scalers = normalize_data(X_train)\n",
    "\n",
    "# y_scaler= MinMaxScaler()\n",
    "# y_train_normalized = y_scaler.fit_transform(y_train.reshape(1, -1))"
   ]
  },
  {
   "cell_type": "code",
   "execution_count": 25,
   "id": "ea6ccb51",
   "metadata": {
    "execution": {
     "iopub.execute_input": "2024-04-26T18:36:53.016202Z",
     "iopub.status.busy": "2024-04-26T18:36:53.015828Z",
     "iopub.status.idle": "2024-04-26T18:36:53.020296Z",
     "shell.execute_reply": "2024-04-26T18:36:53.019211Z"
    },
    "papermill": {
     "duration": 0.022964,
     "end_time": "2024-04-26T18:36:53.022663",
     "exception": false,
     "start_time": "2024-04-26T18:36:52.999699",
     "status": "completed"
    },
    "tags": []
   },
   "outputs": [],
   "source": [
    "#now using the above scalers for training data and testing data lets normalize the test data\n",
    "# for col in X_test.columns:\n",
    "#     normalized = X_scalers[col].transform(X_test[[col]])\n",
    "#     X_test[col] = normalized\n",
    "\n",
    "# y_test_normalized = y_scaler.fit_transform(y_test.reshape(1, -1))"
   ]
  },
  {
   "cell_type": "code",
   "execution_count": 26,
   "id": "3fcaa18b",
   "metadata": {
    "execution": {
     "iopub.execute_input": "2024-04-26T18:36:53.054066Z",
     "iopub.status.busy": "2024-04-26T18:36:53.053668Z",
     "iopub.status.idle": "2024-04-26T18:36:53.059341Z",
     "shell.execute_reply": "2024-04-26T18:36:53.058291Z"
    },
    "papermill": {
     "duration": 0.024297,
     "end_time": "2024-04-26T18:36:53.061763",
     "exception": false,
     "start_time": "2024-04-26T18:36:53.037466",
     "status": "completed"
    },
    "tags": []
   },
   "outputs": [],
   "source": [
    "models_archetectures = [{'layers':(100,50,25),'activation':'relu'}, {'layers':(100,50,25),'activation':'tanh'}, {'layers':(100,50,25),'activation':'logistic'}]"
   ]
  },
  {
   "cell_type": "code",
   "execution_count": 27,
   "id": "f519518b",
   "metadata": {
    "execution": {
     "iopub.execute_input": "2024-04-26T18:36:53.093269Z",
     "iopub.status.busy": "2024-04-26T18:36:53.092871Z",
     "iopub.status.idle": "2024-04-26T18:36:57.271923Z",
     "shell.execute_reply": "2024-04-26T18:36:57.270347Z"
    },
    "papermill": {
     "duration": 4.199704,
     "end_time": "2024-04-26T18:36:57.276170",
     "exception": false,
     "start_time": "2024-04-26T18:36:53.076466",
     "status": "completed"
    },
    "tags": []
   },
   "outputs": [
    {
     "name": "stdout",
     "output_type": "stream",
     "text": [
      "mse = 1762.773171378, mae = 23.59082231137136\n"
     ]
    }
   ],
   "source": [
    "from sklearn.metrics import mean_squared_error, mean_absolute_error\n",
    "from sklearn.neural_network import MLPRegressor\n",
    "\n",
    "\n",
    "for epoch in models_archetectures:\n",
    "    mlp = MLPRegressor(hidden_layer_sizes=epoch['layers'], activation=epoch['activation'], random_state=42)\n",
    "    mlp.fit(X_train, y_train)\n",
    "    y_pred = mlp.predict(X_test)\n",
    "    mse = mean_squared_error(y_test, y_pred)\n",
    "    mae = mean_absolute_error(y_test, y_pred)\n",
    "    print(f'mse = {mse}, mae = {mae}')\n",
    "    break"
   ]
  },
  {
   "cell_type": "code",
   "execution_count": 28,
   "id": "961a6a57",
   "metadata": {
    "execution": {
     "iopub.execute_input": "2024-04-26T18:36:57.341744Z",
     "iopub.status.busy": "2024-04-26T18:36:57.341022Z",
     "iopub.status.idle": "2024-04-26T18:36:57.364223Z",
     "shell.execute_reply": "2024-04-26T18:36:57.362602Z"
    },
    "papermill": {
     "duration": 0.061237,
     "end_time": "2024-04-26T18:36:57.369062",
     "exception": false,
     "start_time": "2024-04-26T18:36:57.307825",
     "status": "completed"
    },
    "tags": []
   },
   "outputs": [
    {
     "data": {
      "text/html": [
       "<style>#sk-container-id-1 {color: black;background-color: white;}#sk-container-id-1 pre{padding: 0;}#sk-container-id-1 div.sk-toggleable {background-color: white;}#sk-container-id-1 label.sk-toggleable__label {cursor: pointer;display: block;width: 100%;margin-bottom: 0;padding: 0.3em;box-sizing: border-box;text-align: center;}#sk-container-id-1 label.sk-toggleable__label-arrow:before {content: \"▸\";float: left;margin-right: 0.25em;color: #696969;}#sk-container-id-1 label.sk-toggleable__label-arrow:hover:before {color: black;}#sk-container-id-1 div.sk-estimator:hover label.sk-toggleable__label-arrow:before {color: black;}#sk-container-id-1 div.sk-toggleable__content {max-height: 0;max-width: 0;overflow: hidden;text-align: left;background-color: #f0f8ff;}#sk-container-id-1 div.sk-toggleable__content pre {margin: 0.2em;color: black;border-radius: 0.25em;background-color: #f0f8ff;}#sk-container-id-1 input.sk-toggleable__control:checked~div.sk-toggleable__content {max-height: 200px;max-width: 100%;overflow: auto;}#sk-container-id-1 input.sk-toggleable__control:checked~label.sk-toggleable__label-arrow:before {content: \"▾\";}#sk-container-id-1 div.sk-estimator input.sk-toggleable__control:checked~label.sk-toggleable__label {background-color: #d4ebff;}#sk-container-id-1 div.sk-label input.sk-toggleable__control:checked~label.sk-toggleable__label {background-color: #d4ebff;}#sk-container-id-1 input.sk-hidden--visually {border: 0;clip: rect(1px 1px 1px 1px);clip: rect(1px, 1px, 1px, 1px);height: 1px;margin: -1px;overflow: hidden;padding: 0;position: absolute;width: 1px;}#sk-container-id-1 div.sk-estimator {font-family: monospace;background-color: #f0f8ff;border: 1px dotted black;border-radius: 0.25em;box-sizing: border-box;margin-bottom: 0.5em;}#sk-container-id-1 div.sk-estimator:hover {background-color: #d4ebff;}#sk-container-id-1 div.sk-parallel-item::after {content: \"\";width: 100%;border-bottom: 1px solid gray;flex-grow: 1;}#sk-container-id-1 div.sk-label:hover label.sk-toggleable__label {background-color: #d4ebff;}#sk-container-id-1 div.sk-serial::before {content: \"\";position: absolute;border-left: 1px solid gray;box-sizing: border-box;top: 0;bottom: 0;left: 50%;z-index: 0;}#sk-container-id-1 div.sk-serial {display: flex;flex-direction: column;align-items: center;background-color: white;padding-right: 0.2em;padding-left: 0.2em;position: relative;}#sk-container-id-1 div.sk-item {position: relative;z-index: 1;}#sk-container-id-1 div.sk-parallel {display: flex;align-items: stretch;justify-content: center;background-color: white;position: relative;}#sk-container-id-1 div.sk-item::before, #sk-container-id-1 div.sk-parallel-item::before {content: \"\";position: absolute;border-left: 1px solid gray;box-sizing: border-box;top: 0;bottom: 0;left: 50%;z-index: -1;}#sk-container-id-1 div.sk-parallel-item {display: flex;flex-direction: column;z-index: 1;position: relative;background-color: white;}#sk-container-id-1 div.sk-parallel-item:first-child::after {align-self: flex-end;width: 50%;}#sk-container-id-1 div.sk-parallel-item:last-child::after {align-self: flex-start;width: 50%;}#sk-container-id-1 div.sk-parallel-item:only-child::after {width: 0;}#sk-container-id-1 div.sk-dashed-wrapped {border: 1px dashed gray;margin: 0 0.4em 0.5em 0.4em;box-sizing: border-box;padding-bottom: 0.4em;background-color: white;}#sk-container-id-1 div.sk-label label {font-family: monospace;font-weight: bold;display: inline-block;line-height: 1.2em;}#sk-container-id-1 div.sk-label-container {text-align: center;}#sk-container-id-1 div.sk-container {/* jupyter's `normalize.less` sets `[hidden] { display: none; }` but bootstrap.min.css set `[hidden] { display: none !important; }` so we also need the `!important` here to be able to override the default hidden behavior on the sphinx rendered scikit-learn.org. See: https://github.com/scikit-learn/scikit-learn/issues/21755 */display: inline-block !important;position: relative;}#sk-container-id-1 div.sk-text-repr-fallback {display: none;}</style><div id=\"sk-container-id-1\" class=\"sk-top-container\"><div class=\"sk-text-repr-fallback\"><pre>MLPRegressor(hidden_layer_sizes=(100, 50, 25), random_state=42)</pre><b>In a Jupyter environment, please rerun this cell to show the HTML representation or trust the notebook. <br />On GitHub, the HTML representation is unable to render, please try loading this page with nbviewer.org.</b></div><div class=\"sk-container\" hidden><div class=\"sk-item\"><div class=\"sk-estimator sk-toggleable\"><input class=\"sk-toggleable__control sk-hidden--visually\" id=\"sk-estimator-id-1\" type=\"checkbox\" checked><label for=\"sk-estimator-id-1\" class=\"sk-toggleable__label sk-toggleable__label-arrow\">MLPRegressor</label><div class=\"sk-toggleable__content\"><pre>MLPRegressor(hidden_layer_sizes=(100, 50, 25), random_state=42)</pre></div></div></div></div></div>"
      ],
      "text/plain": [
       "MLPRegressor(hidden_layer_sizes=(100, 50, 25), random_state=42)"
      ]
     },
     "execution_count": 28,
     "metadata": {},
     "output_type": "execute_result"
    }
   ],
   "source": [
    "mlp"
   ]
  },
  {
   "cell_type": "code",
   "execution_count": 29,
   "id": "2f265e2d",
   "metadata": {
    "execution": {
     "iopub.execute_input": "2024-04-26T18:36:57.410468Z",
     "iopub.status.busy": "2024-04-26T18:36:57.410079Z",
     "iopub.status.idle": "2024-04-26T18:36:57.423718Z",
     "shell.execute_reply": "2024-04-26T18:36:57.422120Z"
    },
    "papermill": {
     "duration": 0.033071,
     "end_time": "2024-04-26T18:36:57.426562",
     "exception": false,
     "start_time": "2024-04-26T18:36:57.393491",
     "status": "completed"
    },
    "tags": []
   },
   "outputs": [
    {
     "data": {
      "text/plain": [
       "array([ 264.80036199, 4070.29809326,  461.65943477,  171.56601237,\n",
       "        127.88815805,  360.28429951,  136.6646844 , 3700.57854325,\n",
       "       3200.09104092,  848.00362706,  183.74340473,  376.77793439,\n",
       "        748.34770037,  150.847275  , 1236.30653398, 1918.85511212,\n",
       "        669.22059443, 3200.85421047, 1603.84741042, 1175.53843189,\n",
       "        269.55116397,  307.05703718, 2582.35472821,  196.4049457 ,\n",
       "        295.05815434,  200.85438702,  234.16983694, 2182.97367108,\n",
       "        288.67673187,  142.24986578,  117.00365388, 1575.13327494,\n",
       "       3258.92845479,  122.00220969,  584.9241466 , 3942.26398722,\n",
       "       3450.60294417, 1322.28398619,  617.67990836,  116.2023839 ,\n",
       "        183.54569043,  240.91566126,  459.43085617,  129.16895853,\n",
       "        725.83628043, 3289.48733128,  140.87099481, 1822.548202  ,\n",
       "       1978.38601233,  433.82740533,  491.32778949, 1034.07819946,\n",
       "        616.54612509,  148.91990563, 3382.30648686,  365.52753817,\n",
       "       1885.28082787, 1469.83126955,  604.33894407, 1986.65536704,\n",
       "        235.57650212,  264.42418061,  483.91590799,  566.20874373,\n",
       "       1120.85254078, 2649.37607962,  157.43345062,  174.93949645,\n",
       "        152.13493382,  226.21117265,  133.15930427,  169.04759839,\n",
       "        126.69295714,  226.56950188,  455.66328596,  140.48098906,\n",
       "        147.41328897, 2857.57386647,  225.11921419,  581.95977176,\n",
       "        142.14086292,  178.35434851, 4037.27278247,  132.54274623,\n",
       "         84.29558595,  217.77631085, 3050.73939722, 2702.38419133,\n",
       "        526.84536948,  201.65620192, 2633.486636  ,  172.4916867 ,\n",
       "        207.49333272, 1276.30002168, 1235.21503001,  237.57886492,\n",
       "        581.71080162,  810.93482364,  650.90950568,  263.16453243,\n",
       "        224.33098449,  166.88092317,  205.89488155,  196.74059544,\n",
       "        202.00035428, 1936.26317595,  191.21393469, 1902.47014896,\n",
       "        855.68770944, 1735.429268  , 1344.04894961,  133.04535607,\n",
       "       1934.77620938, 1854.73881401,  136.08761359,  526.65730129,\n",
       "       3973.09318419,  200.33501161, 1308.32868434, 1054.74578772,\n",
       "        139.44806008,  171.75707331,  137.85015761,  163.14216486,\n",
       "       4595.5330033 ,  171.02625869,  306.02039544, 1746.28222415,\n",
       "        300.39487772,  277.35646963, 4574.70422372,  206.04530061,\n",
       "        595.68845838,  240.61620638, 1667.22895038,  695.45565111,\n",
       "       2422.97900942, 1596.76254107,  372.95932618, 3428.67262009,\n",
       "       1686.28307168, 1861.11368539,  452.29510096,  223.57262315,\n",
       "       1675.21950887,  120.65350929, 1205.2906175 , 1059.55789438,\n",
       "       3563.64006861,  954.513182  , 1044.51468935,  264.21098796,\n",
       "        518.11183591,  212.01638348,  332.7144584 ,   91.9729054 ,\n",
       "       2820.46330913,  237.91019064,  183.44446373,  194.55897341,\n",
       "       1938.97288641, 1789.15687344, 1015.42321551, 3988.37866623,\n",
       "       2424.52958273, 3537.78483446,  257.53933801, 1600.95547828,\n",
       "        174.43591213,  115.42900607, 3745.63280032,  374.83794058,\n",
       "        206.35059096,  211.02967197,  490.23604361, 1313.10857798,\n",
       "       1159.72035171,  180.13277291,  377.42314578, 4042.47057851,\n",
       "       3144.62690587,  926.0845523 ,  125.15397042, 3983.05135953,\n",
       "        236.80226239, 2501.78169314,  207.14794006,  372.09978026,\n",
       "        665.31431453, 3861.41313483,  154.26682556,  219.17403692,\n",
       "        528.51195829, 1497.18402036,  139.55260873, 1701.89343145,\n",
       "        158.23274879,  207.58660829,  665.36192393, 3115.49313522,\n",
       "       3279.3208854 ,  447.76432274,  593.97123277, 4611.61296753,\n",
       "        463.19886172,  708.77336069,  174.18588574,  223.34836823,\n",
       "       2529.50729021,  760.00268579, 1510.93848252,  182.02902144,\n",
       "        121.53398068, 3864.40277633,  588.08317487, 2122.93874563,\n",
       "       2053.64583707,  404.38051208, 1254.4994044 , 2597.69561107,\n",
       "        134.24987233,  167.33638095,  366.25238048,  528.39748531,\n",
       "        187.62772476,  268.3447945 , 1522.16006668, 1686.63332927,\n",
       "        628.85606163,  223.65570261, 1828.96700073,  250.81739895,\n",
       "        126.51968386,  295.14070342,  135.80381749, 4689.77010121,\n",
       "       2921.35303885,  676.00667021, 4424.65397304,  134.12904279,\n",
       "       2624.21217712,  129.95764855,  554.63416422,  129.93954262,\n",
       "       2577.22136677, 2600.70205372, 3102.81024233,  135.04651321,\n",
       "       2133.01611085, 2848.32119263, 1669.71652987, 1572.27354043,\n",
       "       1301.33802332,  104.30149332,  987.56522081,  203.75946735,\n",
       "        224.82142082,  734.44364433,  199.46235449, 2497.33343145,\n",
       "        379.81075414,  580.51811524,  182.13095019,  283.19896488,\n",
       "       3062.37829393, 2823.18957249, 1608.5466927 , 2829.36053646,\n",
       "       2884.43558166, 1514.47215714, 3382.82754035,  194.74826337,\n",
       "        106.77712539, 3040.49727064,  241.74096041, 2997.36337076,\n",
       "        448.06188055,  129.27802105,  471.68843498,  174.81211012,\n",
       "        168.22464845, 2162.62764006, 1741.81701916,  299.76256332,\n",
       "        344.2339775 , 1052.37917733,  153.20910617,  459.89705203,\n",
       "        756.64519023,  207.53858614,  416.7315202 ,  231.77723476,\n",
       "       2647.99559064, 2562.70089292, 1933.29041531,  267.81358718,\n",
       "        120.64318491,  193.05464829, 1107.24692046, 2674.86659152,\n",
       "        264.74162671, 1357.02808022, 2734.57541467,  126.66771327,\n",
       "        137.52424119, 1752.66116912,  370.22790032,  193.52237603,\n",
       "        272.51390076, 1791.17244888, 1540.49946623,  134.56757236,\n",
       "       1393.35932587,  360.72062341,  704.70394032,  144.44109912,\n",
       "        432.00864928,  359.15225375,  350.15789454, 3106.02612755,\n",
       "        162.66639932, 1432.45491848, 3418.6213312 ,  170.83111819,\n",
       "       1914.56191109, 1858.4665549 , 2690.59441448,  464.45768523,\n",
       "       1747.45431041, 1208.8727652 ,  250.33399837,  202.16831127,\n",
       "        574.92821621,  204.50054098, 2979.82878318,  216.33535829,\n",
       "       4595.7399418 ,  352.37288615, 3033.860515  , 3256.02788239,\n",
       "        667.92986214,  136.7435952 ,  961.80740993, 1687.18227299,\n",
       "        225.12672414, 1775.66444428, 4100.0251077 ,  120.40896833,\n",
       "       4123.90835871, 1470.44865545,  356.15280151,  344.66782672,\n",
       "        218.10336775,  157.34020609,  106.02626831,  222.16157312,\n",
       "        245.5467414 ,  806.04440752,  217.06559522,  495.4946536 ,\n",
       "       1672.87201123,  407.081205  , 2624.54982733,  126.5080735 ,\n",
       "       2549.30915408, 2098.53059142,  530.46190634,  455.22062611,\n",
       "        403.18868162,  218.0919346 ,  215.38788301,  166.5695629 ,\n",
       "        157.16520566, 1340.0500215 ,  240.92856382, 1149.92671189,\n",
       "       3450.82272763,  146.11410422,  546.31355637,  181.05403482,\n",
       "       1746.07142919, 2517.63046918, 1758.16761705,  228.07699097,\n",
       "        238.44425581, 1061.59770096, 3149.34335395,  552.48954966,\n",
       "        309.46011833, 2480.21602395,  198.78098444,  205.11161653,\n",
       "       1023.11863397,  165.1115751 ,  135.47191575, 4258.08427609,\n",
       "        643.21284398,  929.11930196,  321.95116417, 2011.96903528,\n",
       "        194.55748562,  910.93364955,  124.82374256,  857.60184001,\n",
       "        252.4344086 , 1684.10202218,  147.12625067,  351.43784149,\n",
       "        224.23402047, 2370.16263488, 3013.05334314,  223.80084424,\n",
       "       1355.35367768,  538.5268608 ,  131.2479549 , 1690.60501399,\n",
       "        182.64592627,  239.43275464,  172.53002054, 4515.3584518 ,\n",
       "        200.7569123 ,  203.04113553,  266.6738419 ,  116.34260175,\n",
       "        297.51271437,  245.57747384, 3000.21331564,  324.74213302,\n",
       "        509.68386217,  214.95471305,  224.80062897,  112.1576883 ,\n",
       "       1867.22927371, 4400.7833934 ,  129.51894128, 3840.2971944 ,\n",
       "        220.94662845,  345.26901546,  455.66275228,  447.52130401,\n",
       "       2270.14739678, 3197.9698324 , 1214.90319248,  629.18338641,\n",
       "        176.20058217,  182.36992467])"
      ]
     },
     "execution_count": 29,
     "metadata": {},
     "output_type": "execute_result"
    }
   ],
   "source": [
    "y_pred"
   ]
  },
  {
   "cell_type": "code",
   "execution_count": 30,
   "id": "5c13a5b6",
   "metadata": {
    "execution": {
     "iopub.execute_input": "2024-04-26T18:36:57.459645Z",
     "iopub.status.busy": "2024-04-26T18:36:57.459017Z",
     "iopub.status.idle": "2024-04-26T18:36:57.467855Z",
     "shell.execute_reply": "2024-04-26T18:36:57.466632Z"
    },
    "papermill": {
     "duration": 0.027957,
     "end_time": "2024-04-26T18:36:57.470102",
     "exception": false,
     "start_time": "2024-04-26T18:36:57.442145",
     "status": "completed"
    },
    "tags": []
   },
   "outputs": [
    {
     "data": {
      "text/plain": [
       "826      268.099243\n",
       "1474    4088.457764\n",
       "235      475.346985\n",
       "800      175.365677\n",
       "779      128.322708\n",
       "           ...     \n",
       "1520    3193.210449\n",
       "1702    1222.506226\n",
       "165      642.547974\n",
       "671      178.725494\n",
       "645      185.440079\n",
       "Name: adjclose, Length: 446, dtype: float64"
      ]
     },
     "execution_count": 30,
     "metadata": {},
     "output_type": "execute_result"
    }
   ],
   "source": [
    "y_test"
   ]
  },
  {
   "cell_type": "code",
   "execution_count": 31,
   "id": "b26d46f5",
   "metadata": {
    "execution": {
     "iopub.execute_input": "2024-04-26T18:36:57.503493Z",
     "iopub.status.busy": "2024-04-26T18:36:57.502868Z",
     "iopub.status.idle": "2024-04-26T18:36:57.507481Z",
     "shell.execute_reply": "2024-04-26T18:36:57.506701Z"
    },
    "papermill": {
     "duration": 0.024187,
     "end_time": "2024-04-26T18:36:57.509745",
     "exception": false,
     "start_time": "2024-04-26T18:36:57.485558",
     "status": "completed"
    },
    "tags": []
   },
   "outputs": [],
   "source": [
    "import joblib\n"
   ]
  },
  {
   "cell_type": "code",
   "execution_count": 32,
   "id": "59886cee",
   "metadata": {
    "execution": {
     "iopub.execute_input": "2024-04-26T18:36:57.543222Z",
     "iopub.status.busy": "2024-04-26T18:36:57.542523Z",
     "iopub.status.idle": "2024-04-26T18:36:57.562181Z",
     "shell.execute_reply": "2024-04-26T18:36:57.560841Z"
    },
    "papermill": {
     "duration": 0.039723,
     "end_time": "2024-04-26T18:36:57.565137",
     "exception": false,
     "start_time": "2024-04-26T18:36:57.525414",
     "status": "completed"
    },
    "tags": []
   },
   "outputs": [
    {
     "data": {
      "text/plain": [
       "['/kaggle/working/my_mlp_model.pkl']"
      ]
     },
     "execution_count": 32,
     "metadata": {},
     "output_type": "execute_result"
    }
   ],
   "source": [
    "filename = '/kaggle/working/my_mlp_model.pkl'\n",
    "joblib.dump(mlp, filename)"
   ]
  },
  {
   "cell_type": "code",
   "execution_count": null,
   "id": "fb7666c4",
   "metadata": {
    "papermill": {
     "duration": 0.015453,
     "end_time": "2024-04-26T18:36:57.596684",
     "exception": false,
     "start_time": "2024-04-26T18:36:57.581231",
     "status": "completed"
    },
    "tags": []
   },
   "outputs": [],
   "source": []
  }
 ],
 "metadata": {
  "kaggle": {
   "accelerator": "none",
   "dataSources": [
    {
     "datasetId": 2493522,
     "sourceId": 4259301,
     "sourceType": "datasetVersion"
    }
   ],
   "dockerImageVersionId": 30684,
   "isGpuEnabled": false,
   "isInternetEnabled": true,
   "language": "python",
   "sourceType": "notebook"
  },
  "kernelspec": {
   "display_name": "Python 3",
   "language": "python",
   "name": "python3"
  },
  "language_info": {
   "codemirror_mode": {
    "name": "ipython",
    "version": 3
   },
   "file_extension": ".py",
   "mimetype": "text/x-python",
   "name": "python",
   "nbconvert_exporter": "python",
   "pygments_lexer": "ipython3",
   "version": "3.10.13"
  },
  "papermill": {
   "default_parameters": {},
   "duration": 12.177413,
   "end_time": "2024-04-26T18:36:58.235048",
   "environment_variables": {},
   "exception": null,
   "input_path": "__notebook__.ipynb",
   "output_path": "__notebook__.ipynb",
   "parameters": {},
   "start_time": "2024-04-26T18:36:46.057635",
   "version": "2.5.0"
  }
 },
 "nbformat": 4,
 "nbformat_minor": 5
}
